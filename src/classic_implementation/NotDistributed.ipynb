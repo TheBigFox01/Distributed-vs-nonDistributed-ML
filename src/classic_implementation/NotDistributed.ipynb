{
 "cells": [
  {
   "cell_type": "code",
   "execution_count": null,
   "id": "f6bd2ed2",
   "metadata": {},
   "outputs": [],
   "source": [
    "\n",
    "import pandas as pd\n",
    "from sklearn.model_selection import train_test_split, GridSearchCV\n",
    "from sklearn.ensemble import RandomForestClassifier\n",
    "from sklearn.metrics import accuracy_score, classification_report, confusion_matrix, roc_auc_score\n",
    "import matplotlib.pyplot as plt\n",
    "import seaborn as sns\n",
    "import time\n"
   ]
  },
  {
   "cell_type": "code",
   "execution_count": null,
   "id": "b1f2f66b",
   "metadata": {},
   "outputs": [],
   "source": [
    "\n",
    "df = pd.read_csv(\"EDA_Student_Depression_Dataset.csv\")\n",
    "df.head()\n"
   ]
  },
  {
   "cell_type": "code",
   "execution_count": null,
   "id": "73d392cf",
   "metadata": {},
   "outputs": [],
   "source": [
    "\n",
    "columns = df.columns.tolist()\n",
    "columns.remove('Depression')\n",
    "\n",
    "X = df[columns]\n",
    "y = df['Depression']\n"
   ]
  },
  {
   "cell_type": "code",
   "execution_count": null,
   "id": "8518e7f8",
   "metadata": {},
   "outputs": [],
   "source": [
    "\n",
    "X_train, X_test, y_train, y_test = train_test_split(X, y, test_size=0.2, random_state=1234)\n"
   ]
  },
  {
   "cell_type": "code",
   "execution_count": null,
   "id": "6dae62cf",
   "metadata": {},
   "outputs": [],
   "source": [
    "\n",
    "rf = RandomForestClassifier()\n",
    "param_grid = {\n",
    "    'n_estimators': [100],\n",
    "    'max_depth': [10]\n",
    "}\n",
    "grid_search = GridSearchCV(estimator=rf, param_grid=param_grid, cv=3)\n",
    "\n",
    "start_time_cv = time.time()\n",
    "grid_search.fit(X_train, y_train)\n",
    "end_time_cv = time.time()\n",
    "\n",
    "print(f\"Tempo cross-validation: {end_time_cv - start_time_cv:.2f} secondi\")\n",
    "\n",
    "best_model = grid_search.best_estimator_\n",
    "y_proba_cv = best_model.predict_proba(X_test)[:, 1]\n",
    "auc_cv = roc_auc_score(y_test, y_proba_cv)\n",
    "print(f\"AUC (Cross-Validated): {auc_cv}\")\n"
   ]
  },
  {
   "cell_type": "code",
   "execution_count": null,
   "id": "4993ce97",
   "metadata": {},
   "outputs": [],
   "source": [
    "\n",
    "rf_direct = RandomForestClassifier(n_estimators=200, max_depth=10)\n",
    "\n",
    "start_time = time.time()\n",
    "rf_direct.fit(X_train, y_train)\n",
    "end_time = time.time()\n",
    "\n",
    "training_time = end_time - start_time\n",
    "print(f\"Tempo di addestramento: {training_time:.2f} secondi\")\n",
    "\n",
    "y_pred = rf_direct.predict(X_test)\n"
   ]
  },
  {
   "cell_type": "code",
   "execution_count": null,
   "id": "6e379620",
   "metadata": {},
   "outputs": [],
   "source": [
    "\n",
    "print(\"AUC:\", roc_auc_score(y_test, rf_direct.predict_proba(X_test)[:, 1]))\n",
    "\n",
    "print(f\"\\nAccuracy score on the test set: {accuracy_score(y_test, y_pred)}\")\n",
    "print(f\"\\nClassification Report:\\n{classification_report(y_test, y_pred)}\")\n",
    "\n",
    "cm = confusion_matrix(y_test, y_pred)\n",
    "ax = plt.axes()\n",
    "sns.heatmap(cm, annot=True, fmt='d', ax=ax)\n",
    "ax.set_title('Random Forest Confusion Matrix')\n",
    "plt.show()\n"
   ]
  }
 ],
 "metadata": {
  "kernelspec": {
   "display_name": "Python 3 (ipykernel)",
   "language": "python",
   "name": "python3"
  },
  "language_info": {
   "codemirror_mode": {
    "name": "ipython",
    "version": 3
   },
   "file_extension": ".py",
   "mimetype": "text/x-python",
   "name": "python",
   "nbconvert_exporter": "python",
   "pygments_lexer": "ipython3",
   "version": "3.11.2"
  }
 },
 "nbformat": 4,
 "nbformat_minor": 5
}
