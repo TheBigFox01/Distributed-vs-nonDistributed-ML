{
 "cells": [
  {
   "cell_type": "code",
   "execution_count": 2,
   "id": "3e21dca0",
   "metadata": {},
   "outputs": [],
   "source": [
    "import pandas as pd\n",
    "from sklearn.ensemble import RandomForestClassifier\n",
    "from sklearn.model_selection import train_test_split\n",
    "from sklearn.metrics import classification_report, confusion_matrix\n",
    "from sklearn.preprocessing import LabelEncoder\n",
    "import time\n",
    "import seaborn as sns\n",
    "import matplotlib.pyplot as plt\n"
   ]
  },
  {
   "cell_type": "code",
   "execution_count": 3,
   "id": "5d0cf35e",
   "metadata": {},
   "outputs": [],
   "source": [
    "# Caricamento del dataset\n",
    "df = pd.read_csv(\"EDA_Student_Depression_Dataset.csv\")"
   ]
  },
  {
   "cell_type": "code",
   "execution_count": 6,
   "id": "4a8046c4",
   "metadata": {},
   "outputs": [],
   "source": [
    "# Preprocessing: rimuovo righe con valori nulli e colonne non numeriche\n",
    "df = df.dropna()\n",
    "df = df.select_dtypes(include=['int64', 'float64'])\n",
    "\n",
    "# Target: 'Depression' (1 = depressed, 0 = not depressed)\n",
    "# Feature-target split\n",
    "X = df.drop(\"Depression\", axis=1)\n",
    "y = df[\"Depression\"]\n",
    "# Train-test split\n",
    "X_train, X_test, y_train, y_test = train_test_split(X, y, test_size=0.2, random_state=42)"
   ]
  },
  {
   "cell_type": "code",
   "execution_count": 7,
   "id": "af7c353e",
   "metadata": {},
   "outputs": [],
   "source": [
    "# Inizio del cronometro\n",
    "start_time = time.time()\n",
    "\n",
    "# Addestramento Random Forest\n",
    "model = RandomForestClassifier(n_estimators=100, random_state=42)\n",
    "model.fit(X_train, y_train)\n",
    "\n",
    "# Fine del cronometro\n",
    "end_time = time.time()"
   ]
  },
  {
   "cell_type": "code",
   "execution_count": 8,
   "id": "ad7a3a45",
   "metadata": {},
   "outputs": [
    {
     "name": "stdout",
     "output_type": "stream",
     "text": [
      "Tempo di addestramento: 1.7987 secondi\n"
     ]
    }
   ],
   "source": [
    "training_time = end_time - start_time\n",
    "print(f\"Tempo di addestramento: {training_time:.4f} secondi\")"
   ]
  },
  {
   "cell_type": "code",
   "execution_count": 9,
   "id": "e4e6b66b",
   "metadata": {},
   "outputs": [
    {
     "name": "stdout",
     "output_type": "stream",
     "text": [
      "Classification Report:\n",
      "              precision    recall  f1-score   support\n",
      "\n",
      "           0       0.82      0.80      0.81      2321\n",
      "           1       0.86      0.87      0.87      3229\n",
      "\n",
      "    accuracy                           0.84      5550\n",
      "   macro avg       0.84      0.84      0.84      5550\n",
      "weighted avg       0.84      0.84      0.84      5550\n",
      "\n"
     ]
    }
   ],
   "source": [
    "# Valutazione\n",
    "y_pred = model.predict(X_test)\n",
    "print(\"Classification Report:\")\n",
    "print(classification_report(y_test, y_pred))"
   ]
  },
  {
   "cell_type": "code",
   "execution_count": 10,
   "id": "2e75bb13",
   "metadata": {},
   "outputs": [
    {
     "data": {
      "image/png": "[encoded data removed]",
      "text/plain": [
       "<Figure size 640x480 with 2 Axes>"
      ]
     },
     "metadata": {},
     "output_type": "display_data"
    }
   ],
   "source": [
    "# Matrice di confusione\n",
    "conf_matrix = confusion_matrix(y_test, y_pred)\n",
    "sns.heatmap(conf_matrix, annot=True, fmt='d', cmap='Blues')\n",
    "plt.title(\"Confusion Matrix\")\n",
    "plt.xlabel(\"Predicted\")\n",
    "plt.ylabel(\"True\")\n",
    "plt.show()"
   ]
  }
 ],
 "metadata": {
  "kernelspec": {
   "display_name": "Python 3",
   "language": "python",
   "name": "python3"
  },
  "language_info": {
   "codemirror_mode": {
    "name": "ipython",
    "version": 3
   },
   "file_extension": ".py",
   "mimetype": "text/x-python",
   "name": "python",
   "nbconvert_exporter": "python",
   "pygments_lexer": "ipython3",
   "version": "3.9.13"
  }
 },
 "nbformat": 4,
 "nbformat_minor": 5
}
