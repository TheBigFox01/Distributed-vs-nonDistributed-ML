{
 "cells": [
  {
   "cell_type": "code",
   "execution_count": 4,
   "id": "a3d6a27b-860f-4a09-bada-8a35780af5b3",
   "metadata": {},
   "outputs": [],
   "source": [
    "# Importa le librerie necessarie\n",
    "import pyspark\n",
    "from pyspark.sql import SparkSession\n",
    "from pyspark.ml.classification import RandomForestClassifier\n",
    "from pyspark.ml.feature import VectorAssembler\n",
    "from pyspark.ml import Pipeline\n",
    "from pyspark.ml.evaluation import BinaryClassificationEvaluator\n",
    "from pyspark.ml.tuning import ParamGridBuilder, CrossValidator\n",
    "from pyspark.sql.functions import col\n",
    "import time\n",
    "import seaborn as sns\n",
    "import matplotlib.pyplot as plt\n",
    "from sklearn.metrics import accuracy_score, classification_report, confusion_matrix"
   ]
  },
  {
   "cell_type": "code",
   "execution_count": 5,
   "id": "dac6495b-37da-4ee7-b6bf-6499325ca48f",
   "metadata": {},
   "outputs": [
    {
     "name": "stderr",
     "output_type": "stream",
     "text": [
      "25/05/16 16:21:12 WARN FileSystem: \"instance-20250422-084356:9000\" is a deprecated filesystem name. Use \"hdfs://instance-20250422-084356:9000/\" instead.\n",
      "25/05/16 16:21:12 WARN FileSystem: \"instance-20250422-084356:9000\" is a deprecated filesystem name. Use \"hdfs://instance-20250422-084356:9000/\" instead.\n",
      "25/05/16 16:21:12 WARN FileSystem: \"instance-20250422-084356:9000\" is a deprecated filesystem name. Use \"hdfs://instance-20250422-084356:9000/\" instead.\n",
      "25/05/16 16:21:12 WARN FileSystem: \"instance-20250422-084356:9000\" is a deprecated filesystem name. Use \"hdfs://instance-20250422-084356:9000/\" instead.\n",
      "25/05/16 16:21:12 WARN FileSystem: \"instance-20250422-084356:9000\" is a deprecated filesystem name. Use \"hdfs://instance-20250422-084356:9000/\" instead.\n",
      "25/05/16 16:21:13 WARN FileSystem: \"instance-20250422-084356:9000\" is a deprecated filesystem name. Use \"hdfs://instance-20250422-084356:9000/\" instead.\n",
      "25/05/16 16:21:13 WARN FileSystem: \"instance-20250422-084356:9000\" is a deprecated filesystem name. Use \"hdfs://instance-20250422-084356:9000/\" instead.\n",
      "25/05/16 16:21:13 WARN FileSystem: \"instance-20250422-084356:9000\" is a deprecated filesystem name. Use \"hdfs://instance-20250422-084356:9000/\" instead.\n",
      "25/05/16 16:21:13 WARN FileSystem: \"instance-20250422-084356:9000\" is a deprecated filesystem name. Use \"hdfs://instance-20250422-084356:9000/\" instead.\n",
      "25/05/16 16:21:13 WARN FileSystem: \"instance-20250422-084356:9000\" is a deprecated filesystem name. Use \"hdfs://instance-20250422-084356:9000/\" instead.\n",
      "25/05/16 16:21:13 WARN FileSystem: \"instance-20250422-084356:9000\" is a deprecated filesystem name. Use \"hdfs://instance-20250422-084356:9000/\" instead.\n",
      "25/05/16 16:21:13 WARN FileSystem: \"instance-20250422-084356:9000\" is a deprecated filesystem name. Use \"hdfs://instance-20250422-084356:9000/\" instead.\n",
      "25/05/16 16:21:13 WARN FileSystem: \"instance-20250422-084356:9000\" is a deprecated filesystem name. Use \"hdfs://instance-20250422-084356:9000/\" instead.\n",
      "25/05/16 16:21:17 WARN FileSystem: \"instance-20250422-084356:9000\" is a deprecated filesystem name. Use \"hdfs://instance-20250422-084356:9000/\" instead.\n",
      "25/05/16 16:21:19 WARN FileSystem: \"instance-20250422-084356:9000\" is a deprecated filesystem name. Use \"hdfs://instance-20250422-084356:9000/\" instead.\n",
      "25/05/16 16:21:19 WARN FileSystem: \"instance-20250422-084356:9000\" is a deprecated filesystem name. Use \"hdfs://instance-20250422-084356:9000/\" instead.\n",
      "25/05/16 16:21:19 WARN FileSystem: \"instance-20250422-084356:9000\" is a deprecated filesystem name. Use \"hdfs://instance-20250422-084356:9000/\" instead.\n",
      "25/05/16 16:21:20 WARN FileSystem: \"instance-20250422-084356:9000\" is a deprecated filesystem name. Use \"hdfs://instance-20250422-084356:9000/\" instead.\n"
     ]
    },
    {
     "name": "stdout",
     "output_type": "stream",
     "text": [
      "+------+----+-----------------+----+------------------+--------------+------------------------------------+----------------+----------------+--------------------------------+----------+-------------+----------------------+-----------------------+------------------------+---------------+------------------+------------------+\n",
      "|Gender| Age|Academic_Pressure|CGPA|Study_Satisfaction|Sleep_Duration|Have_you_ever_had_suicidal_thoughts?|Work/Study_Hours|Financial_Stress|Family_History_of_Mental_Illness|Depression|Is_Metropolis|Dietary_Habits_Healthy|Dietary_Habits_Moderate|Dietary_Habits_Unhealthy|Degree_bachelor|Degree_high_school|Degree_masters_phd|\n",
      "+------+----+-----------------+----+------------------+--------------+------------------------------------+----------------+----------------+--------------------------------+----------+-------------+----------------------+-----------------------+------------------------+---------------+------------------+------------------+\n",
      "|     1|33.0|              5.0|8.97|               2.0|             0|                                   1|             3.0|             1.0|                               0|         1|            0|                     1|                      0|                       0|              1|                 0|                 0|\n",
      "|     0|24.0|              2.0| 5.9|               5.0|             0|                                   0|             3.0|             2.0|                               1|         0|            1|                     0|                      1|                       0|              1|                 0|                 0|\n",
      "|     1|31.0|              3.0|7.03|               5.0|             0|                                   0|             9.0|             1.0|                               1|         0|            0|                     1|                      0|                       0|              1|                 0|                 0|\n",
      "|     0|28.0|              3.0|5.59|               2.0|             1|                                   1|             4.0|             5.0|                               1|         1|            0|                     0|                      1|                       0|              1|                 0|                 0|\n",
      "|     0|25.0|              4.0|8.13|               3.0|             0|                                   1|             1.0|             1.0|                               0|         0|            1|                     0|                      1|                       0|              0|                 0|                 1|\n",
      "+------+----+-----------------+----+------------------+--------------+------------------------------------+----------------+----------------+--------------------------------+----------+-------------+----------------------+-----------------------+------------------------+---------------+------------------+------------------+\n",
      "only showing top 5 rows\n",
      "\n"
     ]
    },
    {
     "name": "stderr",
     "output_type": "stream",
     "text": [
      "25/05/16 16:21:20 WARN FileSystem: \"instance-20250422-084356:9000\" is a deprecated filesystem name. Use \"hdfs://instance-20250422-084356:9000/\" instead.\n"
     ]
    }
   ],
   "source": [
    "# Crea una sessione Spark\n",
    "spark = SparkSession.builder.appName(\"StudentDepressionRandomForest\").getOrCreate()\n",
    "\n",
    "df = spark.read.csv(\"file:///home/emanuele_fossi1201/EDA_Student_Depression_Dataset.csv\", header=True, inferSchema=True)\n",
    "df.show(5)\n"
   ]
  },
  {
   "cell_type": "code",
   "execution_count": 6,
   "id": "24523b41-6524-4e3a-bff0-3afd08407391",
   "metadata": {},
   "outputs": [],
   "source": [
    "# Preprocessing: Creazione della feature \"features\" combinando tutte le colonne numeriche\n",
    "columns = df.columns\n",
    "columns.remove('Depression')\n",
    "\n",
    "# Crea il VectorAssembler\n",
    "assembler = VectorAssembler(inputCols=columns, outputCol=\"features\")\n"
   ]
  },
  {
   "cell_type": "code",
   "execution_count": 7,
   "id": "323d36bd-083b-4679-aa6d-9a8c7fca87af",
   "metadata": {},
   "outputs": [],
   "source": [
    "\n",
    "# Splitta i dati in training e test (80% training, 20% test)\n",
    "train_data, test_data = df.randomSplit([0.8, 0.2], seed=1234)"
   ]
  },
  {
   "cell_type": "code",
   "execution_count": 8,
   "id": "dc2eb332-1d1d-411a-adda-0f3c52a50403",
   "metadata": {},
   "outputs": [
    {
     "name": "stderr",
     "output_type": "stream",
     "text": [
      "25/05/16 16:21:31 WARN FileSystem: \"instance-20250422-084356:9000\" is a deprecated filesystem name. Use \"hdfs://instance-20250422-084356:9000/\" instead.\n",
      "25/05/16 16:21:32 WARN FileSystem: \"instance-20250422-084356:9000\" is a deprecated filesystem name. Use \"hdfs://instance-20250422-084356:9000/\" instead.\n",
      "25/05/16 16:21:32 WARN FileSystem: \"instance-20250422-084356:9000\" is a deprecated filesystem name. Use \"hdfs://instance-20250422-084356:9000/\" instead.\n",
      "25/05/16 16:21:33 WARN FileSystem: \"instance-20250422-084356:9000\" is a deprecated filesystem name. Use \"hdfs://instance-20250422-084356:9000/\" instead.\n",
      "25/05/16 16:21:43 WARN DAGScheduler: Broadcasting large task binary with size 1856.5 KiB\n",
      "25/05/16 16:21:45 WARN DAGScheduler: Broadcasting large task binary with size 3.5 MiB\n",
      "25/05/16 16:21:48 WARN DAGScheduler: Broadcasting large task binary with size 6.3 MiB\n",
      "25/05/16 16:21:49 WARN DAGScheduler: Broadcasting large task binary with size 1653.5 KiB\n",
      "25/05/16 16:21:51 WARN DAGScheduler: Broadcasting large task binary with size 10.9 MiB\n",
      "25/05/16 16:21:54 WARN DAGScheduler: Broadcasting large task binary with size 2.3 MiB\n",
      "25/05/16 16:21:57 WARN FileSystem: \"instance-20250422-084356:9000\" is a deprecated filesystem name. Use \"hdfs://instance-20250422-084356:9000/\" instead.\n",
      "25/05/16 16:21:57 WARN FileSystem: \"instance-20250422-084356:9000\" is a deprecated filesystem name. Use \"hdfs://instance-20250422-084356:9000/\" instead.\n",
      "25/05/16 16:21:58 WARN DAGScheduler: Broadcasting large task binary with size 6.7 MiB\n",
      "25/05/16 16:21:59 WARN FileSystem: \"instance-20250422-084356:9000\" is a deprecated filesystem name. Use \"hdfs://instance-20250422-084356:9000/\" instead.\n",
      "25/05/16 16:21:59 WARN FileSystem: \"instance-20250422-084356:9000\" is a deprecated filesystem name. Use \"hdfs://instance-20250422-084356:9000/\" instead.\n",
      "25/05/16 16:21:59 WARN FileSystem: \"instance-20250422-084356:9000\" is a deprecated filesystem name. Use \"hdfs://instance-20250422-084356:9000/\" instead.\n",
      "25/05/16 16:22:00 WARN FileSystem: \"instance-20250422-084356:9000\" is a deprecated filesystem name. Use \"hdfs://instance-20250422-084356:9000/\" instead.\n",
      "25/05/16 16:22:04 WARN DAGScheduler: Broadcasting large task binary with size 1851.2 KiB\n",
      "25/05/16 16:22:06 WARN DAGScheduler: Broadcasting large task binary with size 3.5 MiB\n",
      "25/05/16 16:22:08 WARN DAGScheduler: Broadcasting large task binary with size 6.3 MiB\n",
      "25/05/16 16:22:10 WARN DAGScheduler: Broadcasting large task binary with size 1606.5 KiB\n",
      "25/05/16 16:22:12 WARN DAGScheduler: Broadcasting large task binary with size 10.7 MiB\n",
      "25/05/16 16:22:14 WARN DAGScheduler: Broadcasting large task binary with size 2.3 MiB\n",
      "25/05/16 16:22:16 WARN FileSystem: \"instance-20250422-084356:9000\" is a deprecated filesystem name. Use \"hdfs://instance-20250422-084356:9000/\" instead.\n",
      "25/05/16 16:22:16 WARN FileSystem: \"instance-20250422-084356:9000\" is a deprecated filesystem name. Use \"hdfs://instance-20250422-084356:9000/\" instead.\n",
      "25/05/16 16:22:17 WARN DAGScheduler: Broadcasting large task binary with size 6.6 MiB\n",
      "25/05/16 16:22:18 WARN FileSystem: \"instance-20250422-084356:9000\" is a deprecated filesystem name. Use \"hdfs://instance-20250422-084356:9000/\" instead.\n",
      "25/05/16 16:22:18 WARN FileSystem: \"instance-20250422-084356:9000\" is a deprecated filesystem name. Use \"hdfs://instance-20250422-084356:9000/\" instead.\n",
      "25/05/16 16:22:18 WARN FileSystem: \"instance-20250422-084356:9000\" is a deprecated filesystem name. Use \"hdfs://instance-20250422-084356:9000/\" instead.\n",
      "25/05/16 16:22:18 WARN FileSystem: \"instance-20250422-084356:9000\" is a deprecated filesystem name. Use \"hdfs://instance-20250422-084356:9000/\" instead.\n",
      "25/05/16 16:22:22 WARN DAGScheduler: Broadcasting large task binary with size 1852.6 KiB\n",
      "25/05/16 16:22:24 WARN DAGScheduler: Broadcasting large task binary with size 3.5 MiB\n",
      "25/05/16 16:22:27 WARN DAGScheduler: Broadcasting large task binary with size 6.3 MiB\n",
      "25/05/16 16:22:29 WARN DAGScheduler: Broadcasting large task binary with size 1618.5 KiB\n",
      "25/05/16 16:22:30 WARN DAGScheduler: Broadcasting large task binary with size 10.7 MiB\n",
      "25/05/16 16:22:33 WARN DAGScheduler: Broadcasting large task binary with size 2.3 MiB\n",
      "25/05/16 16:22:35 WARN FileSystem: \"instance-20250422-084356:9000\" is a deprecated filesystem name. Use \"hdfs://instance-20250422-084356:9000/\" instead.\n",
      "25/05/16 16:22:35 WARN FileSystem: \"instance-20250422-084356:9000\" is a deprecated filesystem name. Use \"hdfs://instance-20250422-084356:9000/\" instead.\n",
      "25/05/16 16:22:36 WARN DAGScheduler: Broadcasting large task binary with size 6.6 MiB\n",
      "25/05/16 16:22:37 WARN FileSystem: \"instance-20250422-084356:9000\" is a deprecated filesystem name. Use \"hdfs://instance-20250422-084356:9000/\" instead.\n",
      "25/05/16 16:22:37 WARN FileSystem: \"instance-20250422-084356:9000\" is a deprecated filesystem name. Use \"hdfs://instance-20250422-084356:9000/\" instead.\n",
      "25/05/16 16:22:37 WARN FileSystem: \"instance-20250422-084356:9000\" is a deprecated filesystem name. Use \"hdfs://instance-20250422-084356:9000/\" instead.\n",
      "25/05/16 16:22:37 WARN FileSystem: \"instance-20250422-084356:9000\" is a deprecated filesystem name. Use \"hdfs://instance-20250422-084356:9000/\" instead.\n",
      "25/05/16 16:22:38 WARN FileSystem: \"instance-20250422-084356:9000\" is a deprecated filesystem name. Use \"hdfs://instance-20250422-084356:9000/\" instead.\n",
      "25/05/16 16:22:38 WARN FileSystem: \"instance-20250422-084356:9000\" is a deprecated filesystem name. Use \"hdfs://instance-20250422-084356:9000/\" instead.\n",
      "25/05/16 16:22:38 WARN FileSystem: \"instance-20250422-084356:9000\" is a deprecated filesystem name. Use \"hdfs://instance-20250422-084356:9000/\" instead.\n",
      "25/05/16 16:22:38 WARN FileSystem: \"instance-20250422-084356:9000\" is a deprecated filesystem name. Use \"hdfs://instance-20250422-084356:9000/\" instead.\n",
      "25/05/16 16:22:43 WARN DAGScheduler: Broadcasting large task binary with size 1850.3 KiB\n",
      "25/05/16 16:22:46 WARN DAGScheduler: Broadcasting large task binary with size 3.5 MiB\n",
      "25/05/16 16:22:48 WARN DAGScheduler: Broadcasting large task binary with size 1050.6 KiB\n",
      "25/05/16 16:22:49 WARN DAGScheduler: Broadcasting large task binary with size 6.6 MiB\n",
      "25/05/16 16:22:51 WARN DAGScheduler: Broadcasting large task binary with size 1820.8 KiB\n",
      "25/05/16 16:22:53 WARN DAGScheduler: Broadcasting large task binary with size 11.7 MiB\n",
      "25/05/16 16:22:56 WARN DAGScheduler: Broadcasting large task binary with size 2.8 MiB\n",
      "25/05/16 16:22:58 WARN FileSystem: \"instance-20250422-084356:9000\" is a deprecated filesystem name. Use \"hdfs://instance-20250422-084356:9000/\" instead.\n",
      "25/05/16 16:22:58 WARN FileSystem: \"instance-20250422-084356:9000\" is a deprecated filesystem name. Use \"hdfs://instance-20250422-084356:9000/\" instead.\n"
     ]
    },
    {
     "name": "stdout",
     "output_type": "stream",
     "text": [
      "Tempo cross-validation: 86.93 secondi\n"
     ]
    },
    {
     "name": "stderr",
     "output_type": "stream",
     "text": [
      "25/05/16 16:22:58 WARN FileSystem: \"instance-20250422-084356:9000\" is a deprecated filesystem name. Use \"hdfs://instance-20250422-084356:9000/\" instead.\n",
      "25/05/16 16:22:59 WARN DAGScheduler: Broadcasting large task binary with size 7.0 MiB\n",
      "25/05/16 16:22:59 WARN FileSystem: \"instance-20250422-084356:9000\" is a deprecated filesystem name. Use \"hdfs://instance-20250422-084356:9000/\" instead.\n",
      "[Stage 144:>                                                        (0 + 1) / 1]"
     ]
    },
    {
     "name": "stdout",
     "output_type": "stream",
     "text": [
      "AUC (Cross-Validated): 0.9188444495097156\n"
     ]
    },
    {
     "name": "stderr",
     "output_type": "stream",
     "text": [
      "                                                                                "
     ]
    }
   ],
   "source": [
    "# Definisci il classificatore\n",
    "rf = RandomForestClassifier(labelCol=\"Depression\", featuresCol=\"features\")\n",
    "\n",
    "# Crea la griglia di parametri leggera\n",
    "paramGrid = ParamGridBuilder() \\\n",
    "    .addGrid(rf.numTrees, [100]) \\\n",
    "    .addGrid(rf.maxDepth, [10]) \\\n",
    "    .addGrid(rf.maxBins, [32]) \\\n",
    "    .build()\n",
    "\n",
    "# Crea l'evaluator\n",
    "evaluator = BinaryClassificationEvaluator(labelCol=\"Depression\", metricName=\"areaUnderROC\")\n",
    "\n",
    "# Crea il CrossValidator\n",
    "crossval = CrossValidator(estimator=Pipeline(stages=[assembler, rf]),\n",
    "                          estimatorParamMaps=paramGrid,\n",
    "                          evaluator=evaluator,\n",
    "                          numFolds=3)\n",
    "\n",
    "# Esegui il training del modello con la validazione incrociata\n",
    "start_time_cv = time.time()\n",
    "cv_model = crossval.fit(train_data)\n",
    "end_time_cv = time.time()\n",
    "\n",
    "print(f\"Tempo cross-validation: {end_time_cv - start_time_cv:.2f} secondi\")\n",
    "\n",
    "# Fai previsioni e valuta\n",
    "predictions_cv = cv_model.transform(test_data)\n",
    "auc_cv = evaluator.evaluate(predictions_cv)\n",
    "print(f\"AUC (Cross-Validated): {auc_cv}\")"
   ]
  },
  {
   "cell_type": "code",
   "execution_count": 9,
   "id": "7cd28acc-6dea-49b2-ad48-f4ee45ce58c9",
   "metadata": {},
   "outputs": [
    {
     "name": "stderr",
     "output_type": "stream",
     "text": [
      "25/05/16 16:23:00 WARN FileSystem: \"instance-20250422-084356:9000\" is a deprecated filesystem name. Use \"hdfs://instance-20250422-084356:9000/\" instead.\n",
      "25/05/16 16:23:00 WARN FileSystem: \"instance-20250422-084356:9000\" is a deprecated filesystem name. Use \"hdfs://instance-20250422-084356:9000/\" instead.\n",
      "25/05/16 16:23:00 WARN FileSystem: \"instance-20250422-084356:9000\" is a deprecated filesystem name. Use \"hdfs://instance-20250422-084356:9000/\" instead.\n",
      "25/05/16 16:23:00 WARN FileSystem: \"instance-20250422-084356:9000\" is a deprecated filesystem name. Use \"hdfs://instance-20250422-084356:9000/\" instead.\n",
      "25/05/16 16:23:00 WARN FileSystem: \"instance-20250422-084356:9000\" is a deprecated filesystem name. Use \"hdfs://instance-20250422-084356:9000/\" instead.\n",
      "25/05/16 16:23:00 WARN FileSystem: \"instance-20250422-084356:9000\" is a deprecated filesystem name. Use \"hdfs://instance-20250422-084356:9000/\" instead.\n",
      "25/05/16 16:23:01 WARN FileSystem: \"instance-20250422-084356:9000\" is a deprecated filesystem name. Use \"hdfs://instance-20250422-084356:9000/\" instead.\n",
      "25/05/16 16:23:01 WARN FileSystem: \"instance-20250422-084356:9000\" is a deprecated filesystem name. Use \"hdfs://instance-20250422-084356:9000/\" instead.\n",
      "25/05/16 16:23:09 WARN DAGScheduler: Broadcasting large task binary with size 1842.2 KiB\n",
      "25/05/16 16:23:12 WARN DAGScheduler: Broadcasting large task binary with size 3.5 MiB\n",
      "25/05/16 16:23:16 WARN DAGScheduler: Broadcasting large task binary with size 1109.5 KiB\n",
      "25/05/16 16:23:17 WARN DAGScheduler: Broadcasting large task binary with size 6.9 MiB\n",
      "25/05/16 16:23:22 WARN DAGScheduler: Broadcasting large task binary with size 2.0 MiB\n",
      "25/05/16 16:23:25 WARN DAGScheduler: Broadcasting large task binary with size 13.0 MiB\n",
      "25/05/16 16:23:31 WARN DAGScheduler: Broadcasting large task binary with size 3.5 MiB\n",
      "25/05/16 16:23:35 WARN DAGScheduler: Broadcasting large task binary with size 23.1 MiB\n",
      "25/05/16 16:23:43 WARN DAGScheduler: Broadcasting large task binary with size 5.5 MiB\n",
      "25/05/16 16:23:46 WARN FileSystem: \"instance-20250422-084356:9000\" is a deprecated filesystem name. Use \"hdfs://instance-20250422-084356:9000/\" instead.\n",
      "25/05/16 16:23:46 WARN FileSystem: \"instance-20250422-084356:9000\" is a deprecated filesystem name. Use \"hdfs://instance-20250422-084356:9000/\" instead.\n"
     ]
    },
    {
     "name": "stdout",
     "output_type": "stream",
     "text": [
      "Tempo di addestramento: 47.09 secondi\n"
     ]
    }
   ],
   "source": [
    "# Addestramento del modello senza cross-validation\n",
    "rf = RandomForestClassifier(labelCol=\"Depression\", featuresCol=\"features\", numTrees=200, maxDepth=10)\n",
    "pipeline = Pipeline(stages=[assembler, rf])\n",
    "\n",
    "# Inizio della misurazione del tempo di addestramento\n",
    "start_time = time.time()\n",
    "pipeline_model = pipeline.fit(train_data)\n",
    "end_time = time.time()\n",
    "\n",
    "# Calcola e stampa il tempo di addestramento\n",
    "training_time = end_time - start_time\n",
    "print(f\"Tempo di addestramento: {training_time:.2f} secondi\")"
   ]
  },
  {
   "cell_type": "code",
   "execution_count": 10,
   "id": "a1bf4f2b-d422-4964-a086-20b745db025c",
   "metadata": {},
   "outputs": [
    {
     "name": "stderr",
     "output_type": "stream",
     "text": [
      "25/05/16 16:23:47 WARN SparkStringUtils: Truncated the string representation of a plan since it was too large. This behavior can be adjusted by setting 'spark.sql.debug.maxToStringFields'.\n",
      "25/05/16 16:23:47 WARN FileSystem: \"instance-20250422-084356:9000\" is a deprecated filesystem name. Use \"hdfs://instance-20250422-084356:9000/\" instead.\n",
      "25/05/16 16:23:48 WARN DAGScheduler: Broadcasting large task binary with size 13.8 MiB\n",
      "25/05/16 16:23:48 WARN FileSystem: \"instance-20250422-084356:9000\" is a deprecated filesystem name. Use \"hdfs://instance-20250422-084356:9000/\" instead.\n",
      "                                                                                "
     ]
    },
    {
     "name": "stdout",
     "output_type": "stream",
     "text": [
      "+----------+----------+\n",
      "|prediction|Depression|\n",
      "+----------+----------+\n",
      "|       0.0|         0|\n",
      "|       0.0|         0|\n",
      "|       0.0|         0|\n",
      "|       0.0|         0|\n",
      "|       0.0|         0|\n",
      "|       0.0|         0|\n",
      "|       1.0|         1|\n",
      "|       0.0|         0|\n",
      "|       0.0|         0|\n",
      "|       0.0|         0|\n",
      "|       1.0|         1|\n",
      "|       0.0|         0|\n",
      "|       0.0|         0|\n",
      "|       1.0|         0|\n",
      "|       0.0|         1|\n",
      "|       0.0|         0|\n",
      "|       1.0|         1|\n",
      "|       0.0|         0|\n",
      "|       0.0|         0|\n",
      "|       1.0|         1|\n",
      "|       0.0|         0|\n",
      "|       1.0|         1|\n",
      "|       1.0|         1|\n",
      "|       1.0|         1|\n",
      "|       1.0|         1|\n",
      "|       1.0|         0|\n",
      "|       0.0|         0|\n",
      "|       0.0|         0|\n",
      "|       0.0|         0|\n",
      "|       0.0|         1|\n",
      "|       1.0|         1|\n",
      "|       0.0|         0|\n",
      "|       0.0|         0|\n",
      "|       1.0|         1|\n",
      "|       1.0|         0|\n",
      "|       1.0|         1|\n",
      "|       0.0|         1|\n",
      "|       1.0|         1|\n",
      "|       1.0|         1|\n",
      "|       1.0|         1|\n",
      "|       0.0|         0|\n",
      "|       1.0|         1|\n",
      "|       1.0|         0|\n",
      "|       1.0|         0|\n",
      "|       1.0|         1|\n",
      "|       0.0|         1|\n",
      "|       1.0|         1|\n",
      "|       1.0|         1|\n",
      "|       1.0|         1|\n",
      "|       1.0|         1|\n",
      "+----------+----------+\n",
      "only showing top 50 rows\n",
      "\n"
     ]
    },
    {
     "name": "stderr",
     "output_type": "stream",
     "text": [
      "25/05/16 16:23:48 WARN FileSystem: \"instance-20250422-084356:9000\" is a deprecated filesystem name. Use \"hdfs://instance-20250422-084356:9000/\" instead.\n",
      "25/05/16 16:23:49 WARN DAGScheduler: Broadcasting large task binary with size 13.8 MiB\n",
      "25/05/16 16:23:50 WARN FileSystem: \"instance-20250422-084356:9000\" is a deprecated filesystem name. Use \"hdfs://instance-20250422-084356:9000/\" instead.\n"
     ]
    },
    {
     "name": "stdout",
     "output_type": "stream",
     "text": [
      "AUC: 0.9190517266523535\n"
     ]
    },
    {
     "name": "stderr",
     "output_type": "stream",
     "text": [
      "                                                                                "
     ]
    }
   ],
   "source": [
    "# Fai le predizioni sul set di test\n",
    "predictions = pipeline_model.transform(test_data)\n",
    "\n",
    "# Visualizza le prime 50 predizioni\n",
    "predictions.select(\"prediction\", \"Depression\").show(50)\n",
    "\n",
    "# Valuta il modello utilizzando l'AUC\n",
    "evaluator = BinaryClassificationEvaluator(labelCol=\"Depression\")\n",
    "auc = evaluator.evaluate(predictions)\n",
    "print(f\"AUC: {auc}\")\n"
   ]
  },
  {
   "cell_type": "code",
   "execution_count": 11,
   "id": "5ae9e19a-5d1a-49e9-8efb-3f1032b36adf",
   "metadata": {},
   "outputs": [
    {
     "name": "stderr",
     "output_type": "stream",
     "text": [
      "25/05/16 16:23:51 WARN FileSystem: \"instance-20250422-084356:9000\" is a deprecated filesystem name. Use \"hdfs://instance-20250422-084356:9000/\" instead.\n",
      "25/05/16 16:23:51 WARN FileSystem: \"instance-20250422-084356:9000\" is a deprecated filesystem name. Use \"hdfs://instance-20250422-084356:9000/\" instead.\n",
      "25/05/16 16:23:51 WARN FileSystem: \"instance-20250422-084356:9000\" is a deprecated filesystem name. Use \"hdfs://instance-20250422-084356:9000/\" instead.\n",
      "25/05/16 16:23:53 WARN DAGScheduler: Broadcasting large task binary with size 13.8 MiB\n",
      "25/05/16 16:23:53 WARN FileSystem: \"instance-20250422-084356:9000\" is a deprecated filesystem name. Use \"hdfs://instance-20250422-084356:9000/\" instead.\n",
      "                                                                                "
     ]
    },
    {
     "name": "stdout",
     "output_type": "stream",
     "text": [
      "\n",
      "Accuracy score on the test set: 0.8531165311653116\n",
      "\n",
      "Classification Report:\n",
      "              precision    recall  f1-score   support\n",
      "\n",
      "           0       0.84      0.80      0.82      2264\n",
      "           1       0.86      0.89      0.88      3271\n",
      "\n",
      "    accuracy                           0.85      5535\n",
      "   macro avg       0.85      0.84      0.85      5535\n",
      "weighted avg       0.85      0.85      0.85      5535\n",
      "\n"
     ]
    },
    {
     "data": {
      "image/png": "[encoded data removed]",
      "text/plain": [
       "<Figure size 640x480 with 2 Axes>"
      ]
     },
     "metadata": {},
     "output_type": "display_data"
    }
   ],
   "source": [
    "# Calcola metriche aggiuntive con sklearn\n",
    "t_test = predictions.select('Depression').toPandas()\n",
    "t_hat = predictions.select('prediction').toPandas()\n",
    "\n",
    "print(f\"\\nAccuracy score on the test set: {accuracy_score(t_test, t_hat)}\")\n",
    "print(f\"\\nClassification Report:\\n{classification_report(t_test, t_hat)}\")\n",
    "\n",
    "# Confusion Matrix\n",
    "cm = confusion_matrix(t_test, t_hat)\n",
    "ax = plt.axes()\n",
    "sns.heatmap(cm, annot=True, fmt='d', ax=ax)\n",
    "ax.set_title('Random Forest Confusion Matrix')\n",
    "plt.show()\n"
   ]
  },
  {
   "cell_type": "code",
   "execution_count": null,
   "id": "9514f74e-400f-4a14-b5b6-6e1781bc48d2",
   "metadata": {},
   "outputs": [],
   "source": []
  },
  {
   "cell_type": "code",
   "execution_count": null,
   "id": "13f3a88d-1415-4297-8c5a-fcffb7415874",
   "metadata": {},
   "outputs": [],
   "source": []
  },
  {
   "cell_type": "code",
   "execution_count": null,
   "id": "6c0d6fd4-4b85-478a-af7a-8daba164fbf8",
   "metadata": {},
   "outputs": [],
   "source": []
  },
  {
   "cell_type": "code",
   "execution_count": null,
   "id": "f74bf229-78a8-4f60-80f6-d5e4692d8a86",
   "metadata": {},
   "outputs": [],
   "source": []
  }
 ],
 "metadata": {
  "kernelspec": {
   "display_name": "Python 3 (ipykernel)",
   "language": "python",
   "name": "python3"
  },
  "language_info": {
   "codemirror_mode": {
    "name": "ipython",
    "version": 3
   },
   "file_extension": ".py",
   "mimetype": "text/x-python",
   "name": "python",
   "nbconvert_exporter": "python",
   "pygments_lexer": "ipython3",
   "version": "3.11.2"
  }
 },
 "nbformat": 4,
 "nbformat_minor": 5
}
